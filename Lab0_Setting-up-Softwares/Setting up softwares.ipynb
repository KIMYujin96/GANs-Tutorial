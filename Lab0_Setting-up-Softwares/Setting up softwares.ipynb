{
 "cells": [
  {
   "cell_type": "markdown",
   "metadata": {},
   "source": [
    "<center> \n",
    "    <h1>Setting up Environment for this Tutorial</h1>\n",
    "</center>"
   ]
  },
  {
   "cell_type": "markdown",
   "metadata": {},
   "source": [
    "## Software Installation\n",
    "For this tutorial, we need to setup our machine to easily execute our python code that makes of Tensorflow for font generation using GANs. There are mainly two ways for us to accomplish this:\n",
    "\n",
    "<ol>\n",
    "<li>Install Python, TensorFlow, and some IDE like jupyter notebook, PyCharm etc.</li>\n",
    "<li>Use Google CoLab in the cloud.</li>\n",
    "</ol>\n",
    "\n",
    "We will go for the first option and setup our environment on the machine we have in hand. (For this tutorial I assume that you have GPU supported machine.)\n"
   ]
  },
  {
   "cell_type": "markdown",
   "metadata": {},
   "source": [
    "## Installing Python and TensorFlow\n",
    "Now we will manually install python and TensorFlow on our machines. It is possible to use GooglecoLab that automatically does these steps. <br><br>\n",
    "The First step is to install Python 3.7. We will install Miniconda (Anaconda) release of Python, as it already includes many of the data science related packages that are needed for this tutorial.  Anaconda directly supports Windows, Mac, and Linux. Miniconda is the minimal set of features from the extensive Anaconda Python distribution. Download Miniconda from the following URL:\n",
    "<ul>\n",
    "    <li>\n",
    "<a href=\"https://docs.conda.io/en/latest/miniconda.html\" target=\"_blank\">Miniconda</a>\n",
    "    </li>\n",
    "</ul>\n"
   ]
  },
  {
   "cell_type": "markdown",
   "metadata": {},
   "source": [
    "<h3 style='color:blue'> Creating Conda Environment </h3>\n",
    "First, we will create an enviroment to hold the Python instance for this tutorial. Use the following command to create your environment. I am calling the environment <b>tutorial-TF</b>, you can name yours whatever you like. <br><br>\n",
    "<code>conda create --name tutorial-TF python=3.7</code> <br><br>\n",
    "Now to activate this environment we will run the below command<br><br>\n",
    "<code>conda activate tutorial-TF</code> or <code>activate tutorial-TF</code>\n"
   ]
  },
  {
   "cell_type": "markdown",
   "metadata": {},
   "source": [
    "<h3 style='color:blue'> Installing Jupyter</h3>\n",
    "Now we will isntall jupyter, which is the editor we will use for this tutorial. Please run the below command for installing jupyter. <br><br>\n",
    "<code>conda install -y jupyter</code><br><br>\n",
    "We will Launch Jupyter later. <br>\n",
    "<h3 style='color:blue'> Installing TensorFlow </h3>\n",
    "This section describes how to install TensorFlow for either CPU or GPU. To use GPU, you must have a compatible <a href=\"https://developer.nvidia.com/cuda-gpus\" target=\"_blank\">NVIDIA GPU</a><br>\n",
    "<h4 style='color:green'> Install TensorFlow for CPU</h4>\n",
    "If you dont have any GPU support, install TensorFlow CPU version with the below command. <br> <br>\n",
    "<code>conda install -c anaconda tensorflow</code>\n",
    "<h4 style='color:green'> Install TensorFlow for GPU</h4>\n",
    "The below command installs TensorFlow for GPU support. <br><br>\n",
    "<code>conda install -c anaconda tensorflow-gpu</code>\n"
   ]
  },
  {
   "cell_type": "markdown",
   "metadata": {},
   "source": [
    "<h3 style='color:blue'> Install Additional Libraries for Tutorial</h3>\n",
    "There are several additional libraries that we need for this tutorial. This command will install them. Make sure you are still in your <b>tutorial-TF</b> environment.<br><br>\n",
    "<code>conda env update --file tools.yml</code><br><br>\n",
    "The tools.yml file is located in the root directory for this GitHub repository."
   ]
  },
  {
   "cell_type": "markdown",
   "metadata": {},
   "source": [
    "<h3 style='color:blue'> Register your Environment</h3>\n",
    "The following command registers our tensorflow environment. Again, make sure you \"conda activate\" your new <b>tutorial-TF</b> environment.<br><br><code>python -m ipykernel install --user --name tutorial-TF --display-name \"Python 3.7 (tutorial-TF)\"</code><br><br>\n",
    "The tools.yml file is located in the root directory for this GitHub repository."
   ]
  },
  {
   "cell_type": "markdown",
   "metadata": {},
   "source": [
    "<h3 style='color:blue'>  Testing Environment</h3>\n",
    "Finally we will test our environment by launching jupyter notebook with the below command.<br><br><code>jupyter notebook</code><br><br>\n",
    "Run the below command to check if the installed versions are as expected."
   ]
  },
  {
   "cell_type": "code",
   "execution_count": 4,
   "metadata": {},
   "outputs": [
    {
     "name": "stdout",
     "output_type": "stream",
     "text": [
      "Tensor Flow Version: 2.1.0\n",
      "Keras Version: 2.2.4-tf\n",
      "\n",
      "Python 3.7.9 (default, Aug 31 2020, 17:10:11) [MSC v.1916 64 bit (AMD64)]\n",
      "Pandas 1.1.3\n",
      "Scikit-Learn 0.23.2\n",
      "GPU is available\n"
     ]
    }
   ],
   "source": [
    "# What version of Python do you have?\n",
    "import sys\n",
    "\n",
    "import tensorflow.keras\n",
    "import pandas as pd\n",
    "import sklearn as sk\n",
    "import tensorflow as tf\n",
    "\n",
    "print(f\"Tensor Flow Version: {tf.__version__}\")\n",
    "print(f\"Keras Version: {tensorflow.keras.__version__}\")\n",
    "print()\n",
    "print(f\"Python {sys.version}\")\n",
    "print(f\"Pandas {pd.__version__}\")\n",
    "print(f\"Scikit-Learn {sk.__version__}\")\n",
    "gpu = len(tf.config.list_physical_devices('GPU'))>0\n",
    "print(\"GPU is\", \"available\" if gpu else \"NOT AVAILABLE\")"
   ]
  }
 ],
 "metadata": {
  "kernelspec": {
   "display_name": "Python 3.7 (tutorial-TF)",
   "language": "python",
   "name": "tutorial-tf"
  },
  "language_info": {
   "codemirror_mode": {
    "name": "ipython",
    "version": 3
   },
   "file_extension": ".py",
   "mimetype": "text/x-python",
   "name": "python",
   "nbconvert_exporter": "python",
   "pygments_lexer": "ipython3",
   "version": "3.7.9"
  }
 },
 "nbformat": 4,
 "nbformat_minor": 4
}
